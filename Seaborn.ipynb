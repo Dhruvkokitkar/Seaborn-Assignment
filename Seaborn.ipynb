{
 "cells": [
  {
   "cell_type": "markdown",
   "id": "0ab1e361-5208-4dd6-b2b7-5025b484b6c6",
   "metadata": {},
   "source": [
    "1)Five plots are:\n",
    "    Distplot - For univariate features.\n",
    "    Joinplot - For bivariate features.\n",
    "    Pairplot - For multivariate features.\n",
    "    Countplot - For categorical features.\n",
    "    Boxplot - For categorical and numerical features."
   ]
  },
  {
   "cell_type": "markdown",
   "id": "26889e5b-b448-4884-9e22-e2908bf0c4d7",
   "metadata": {},
   "source": [
    "2)import seaborn as sns\n",
    "fmri = sns.load_dataset(\"fmri\")\n",
    "fmri"
   ]
  },
  {
   "cell_type": "markdown",
   "id": "70192bed-d138-490e-a3fc-2d49006c335d",
   "metadata": {},
   "source": [
    "4)import seaborn as sns\n",
    "diamonds=sns.load_dataset(\"diamonds\")\n",
    "diamonds\n",
    "sns.histplot(x=diamonds.price,hue=diamonds.cut)"
   ]
  },
  {
   "cell_type": "markdown",
   "id": "60dfafe4-6a21-42b9-8856-bf3d91a7e0ae",
   "metadata": {},
   "source": [
    "5)import seaborn as sns\n",
    "iris=sns.load_dataset(\"iris\")\n",
    "iris\n",
    "sns.pairplot(data=iris,hue=\"species\")"
   ]
  },
  {
   "cell_type": "markdown",
   "id": "a3785dee-4cc6-4680-a7ee-4f00c7cafa9f",
   "metadata": {},
   "source": [
    "6)import seaborn as sns\n",
    "flights=sns.load_dataset(\"flights\")\n",
    "flights\n",
    "flights.drop(\"month\",inplace=True,axis=1)\n",
    "sns.heatmap(data=flights)\n",
    "flights.month.replace({\"Jan\" : 0, \"Feb\" : 1, \"Mar\" : 3, \"Apr\" : 4, \"May\" : 5, \"Jun\" : 6, \"Jul\" : 7, \"Aug\" : 8, \"Sep\" : 9, \"Oct\" : 10, \"Nov\" : 11, \"Dec\" : 12}, inplace = True)\n",
    "sns.heatmap(flights1)"
   ]
  },
  {
   "cell_type": "markdown",
   "id": "90c9c61f-2537-4909-be26-73e15014929a",
   "metadata": {},
   "source": [
    "3)import seaborn as sns\n",
    "titanic=sns.load_dataset(\"titanic\")\n",
    "titanic\n",
    "sns.boxplot(x=titanic.pclass,y=titanic.age)\n",
    "sns.boxplot(x=titanic.pclass,y=titanic.fare)"
   ]
  },
  {
   "cell_type": "code",
   "execution_count": null,
   "id": "aa30c96a-a73e-4c43-99a4-024b956f4f96",
   "metadata": {},
   "outputs": [],
   "source": []
  }
 ],
 "metadata": {
  "kernelspec": {
   "display_name": "Python 3 (ipykernel)",
   "language": "python",
   "name": "python3"
  },
  "language_info": {
   "codemirror_mode": {
    "name": "ipython",
    "version": 3
   },
   "file_extension": ".py",
   "mimetype": "text/x-python",
   "name": "python",
   "nbconvert_exporter": "python",
   "pygments_lexer": "ipython3",
   "version": "3.10.8"
  }
 },
 "nbformat": 4,
 "nbformat_minor": 5
}
